{
 "cells": [
  {
   "cell_type": "code",
   "execution_count": 18,
   "id": "e496220a",
   "metadata": {},
   "outputs": [
    {
     "name": "stdout",
     "output_type": "stream",
     "text": [
      "5\n",
      "01 01 01 01 01 \n",
      "02 02 02 02 02 \n",
      "03 03 03 03 03 \n",
      "04 04 04 04 04 \n",
      "05 05 05 05 05 \n"
     ]
    }
   ],
   "source": [
    "n=int(input())\n",
    "for i in range (1,n+1):\n",
    "    c=i\n",
    "    for j in range (1,n+1):\n",
    "        print(\"{:02d}\".format(i),end=\" \")\n",
    "        c=c+n\n",
    "    print()   \n",
    "    "
   ]
  },
  {
   "cell_type": "code",
   "execution_count": null,
   "id": "c8c3717b",
   "metadata": {},
   "outputs": [],
   "source": []
  },
  {
   "cell_type": "code",
   "execution_count": 1,
   "id": "912c4c29",
   "metadata": {},
   "outputs": [
    {
     "name": "stdout",
     "output_type": "stream",
     "text": [
      "4\n",
      "6\n",
      "7\n",
      "6\n"
     ]
    }
   ],
   "source": [
    "l=[1,2,3,4,5,6,7]\n",
    "print(l[3])\n",
    "print(l[5])\n",
    "print(l[-1])\n",
    "print(l[-2])"
   ]
  },
  {
   "cell_type": "code",
   "execution_count": 2,
   "id": "107ec762",
   "metadata": {},
   "outputs": [
    {
     "name": "stdout",
     "output_type": "stream",
     "text": [
      "5 2 7 3 9 8 7 6 5 \n",
      "7\n",
      "2\n"
     ]
    }
   ],
   "source": [
    "l=list(map(int,input().split()))\n",
    "k=int(input())\n",
    "for i in range (len(l)):\n",
    "    if l[i]==k:\n",
    "        print(i)\n",
    "        break\n",
    "else:\n",
    "    print(-1)"
   ]
  },
  {
   "cell_type": "code",
   "execution_count": 1,
   "id": "c0c01a6b",
   "metadata": {},
   "outputs": [
    {
     "name": "stdout",
     "output_type": "stream",
     "text": [
      "9 5 7 8 6 2 4 3\n",
      "[2, 3, 4, 5, 6, 7, 8, 9]\n"
     ]
    }
   ],
   "source": [
    "l=list(map(int,input().split()))\n",
    "for i in range (len(l)-1):\n",
    "    t=i\n",
    "    for j in range (i+1,len(l)):\n",
    "        if l [j]<l[t]:\n",
    "            t=j\n",
    "    l[i],l[t]=l[t],l[i]\n",
    "print(l)    "
   ]
  },
  {
   "cell_type": "code",
   "execution_count": 3,
   "id": "2d20055d",
   "metadata": {},
   "outputs": [
    {
     "name": "stdout",
     "output_type": "stream",
     "text": [
      "2\n",
      "3\n",
      "1\n",
      "2\n",
      "3\n",
      "4\n",
      "5\n",
      "6\n",
      "[[1, 2, 3], [4, 5, 6]]\n"
     ]
    }
   ],
   "source": [
    "n=int(input())\n",
    "m=int(input())\n",
    "l=[[int(input())for j in range(m)]for i in range(n)]\n",
    "print(l)"
   ]
  },
  {
   "cell_type": "code",
   "execution_count": 5,
   "id": "175b9aa1",
   "metadata": {},
   "outputs": [
    {
     "name": "stdout",
     "output_type": "stream",
     "text": [
      "20\n"
     ]
    }
   ],
   "source": [
    "l=[2,3,4,5,6]\n",
    "print(sum(l))"
   ]
  },
  {
   "cell_type": "code",
   "execution_count": 7,
   "id": "b903f7b4",
   "metadata": {},
   "outputs": [
    {
     "name": "stdout",
     "output_type": "stream",
     "text": [
      "9 3 5 1 2 6 3 4 7 6\n",
      "4\n",
      "[1, 3, 5, 9, 7, 6, 6, 4, 3, 2]\n"
     ]
    }
   ],
   "source": [
    "#slicing\n",
    "l=list(map(int,input().split()))\n",
    "k=int(input())\n",
    "l=sorted(l[:k])+sorted(l[k:],reverse=True)\n",
    "print(l)"
   ]
  },
  {
   "cell_type": "code",
   "execution_count": null,
   "id": "63040163",
   "metadata": {},
   "outputs": [],
   "source": [
    "n=int(input())\n",
    "s=0\n",
    "for i inrange"
   ]
  },
  {
   "cell_type": "code",
   "execution_count": 3,
   "id": "013bb02b",
   "metadata": {},
   "outputs": [
    {
     "name": "stdout",
     "output_type": "stream",
     "text": [
      "[6, 5, 4, 3, 2]\n"
     ]
    }
   ],
   "source": [
    "print(list(range(6,1,-1)))"
   ]
  },
  {
   "cell_type": "code",
   "execution_count": 7,
   "id": "31e9ac4c",
   "metadata": {},
   "outputs": [
    {
     "name": "stdout",
     "output_type": "stream",
     "text": [
      "11\n"
     ]
    }
   ],
   "source": [
    "var=10\n",
    "for i in range(10):\n",
    "    for j in range(2,10,1):\n",
    "        if var %2==0:\n",
    "            continue\n",
    "            var+=1\n",
    "        var+=1\n",
    "else:\n",
    "    var+=1\n",
    "print(var)    "
   ]
  },
  {
   "cell_type": "code",
   "execution_count": 11,
   "id": "b26da6e9",
   "metadata": {},
   "outputs": [
    {
     "name": "stdout",
     "output_type": "stream",
     "text": [
      "103\n"
     ]
    }
   ],
   "source": [
    "n=10\n",
    "t=100\n",
    "for i in range(1,n):\n",
    "    if i%3==1:\n",
    "        t=t+1\n",
    "print(t)        \n",
    "        "
   ]
  },
  {
   "cell_type": "code",
   "execution_count": 4,
   "id": "ceed10fb",
   "metadata": {},
   "outputs": [
    {
     "name": "stdout",
     "output_type": "stream",
     "text": [
      "4 1 2 3 6 3\n",
      "<class 'tuple'> (4, 1, 2, 3, 6, 3)\n"
     ]
    }
   ],
   "source": [
    "#tuple\n",
    "l=tuple(map(int,input().split()))\n",
    "print(type(l),l)\n"
   ]
  },
  {
   "cell_type": "code",
   "execution_count": 5,
   "id": "1a6620fc",
   "metadata": {},
   "outputs": [
    {
     "name": "stdout",
     "output_type": "stream",
     "text": [
      "5\n",
      "1\n",
      "7\n",
      "3\n",
      "8\n"
     ]
    }
   ],
   "source": [
    "#accessing element from tuple\n",
    "t=(5,1,7,3,8)\n",
    "for i in t:\n",
    "    print(i)"
   ]
  },
  {
   "cell_type": "code",
   "execution_count": 6,
   "id": "884ed9fd",
   "metadata": {},
   "outputs": [
    {
     "name": "stdout",
     "output_type": "stream",
     "text": [
      "3 4 1 6 7 9\n"
     ]
    }
   ],
   "source": [
    "t=(3,4,1,6,7,9)\n",
    "print(*t)"
   ]
  },
  {
   "cell_type": "code",
   "execution_count": 8,
   "id": "6ff7bb71",
   "metadata": {},
   "outputs": [
    {
     "name": "stdout",
     "output_type": "stream",
     "text": [
      "4\n",
      "1\n",
      "2\n",
      "7\n",
      "4\n",
      "5\n"
     ]
    }
   ],
   "source": [
    "t=(4,1,2,7,4,5)\n",
    "for i in range (len(l)):\n",
    "    print(t[i])"
   ]
  },
  {
   "cell_type": "code",
   "execution_count": 9,
   "id": "c3ab7e8b",
   "metadata": {},
   "outputs": [
    {
     "name": "stdout",
     "output_type": "stream",
     "text": [
      "(1, 7, 6, 5, 2, 4)\n",
      "(4, 5, 7)\n",
      "(1, 7, 6)\n"
     ]
    }
   ],
   "source": [
    "t=(4,2,5,6,7,1)\n",
    "print(t[::-1])\n",
    "print(t[::2])\n",
    "print(t[-1:-4:-1])"
   ]
  },
  {
   "cell_type": "code",
   "execution_count": 10,
   "id": "2b201a4d",
   "metadata": {},
   "outputs": [
    {
     "name": "stdout",
     "output_type": "stream",
     "text": [
      "3\n"
     ]
    }
   ],
   "source": [
    "#searching in tuple\n",
    "t=(3,4,1,7,5,6)\n",
    "print(t.index(7))"
   ]
  },
  {
   "cell_type": "code",
   "execution_count": 15,
   "id": "95fef883",
   "metadata": {},
   "outputs": [
    {
     "name": "stdout",
     "output_type": "stream",
     "text": [
      "[1, 2, 3, 4, 5, 6, 9]\n",
      "[9, 6, 5, 4, 3, 2, 1]\n"
     ]
    }
   ],
   "source": [
    "#sorting in tuple\n",
    "t=(3,2,1,6,5,4,9)\n",
    "print(sorted(t))\n",
    "print(sorted(t,reverse=True))"
   ]
  },
  {
   "cell_type": "code",
   "execution_count": 12,
   "id": "6f1aca02",
   "metadata": {},
   "outputs": [
    {
     "name": "stdout",
     "output_type": "stream",
     "text": [
      "2\n"
     ]
    }
   ],
   "source": [
    "t=(3,4,5,1,2,3,5)\n",
    "print(t.count(3))"
   ]
  },
  {
   "cell_type": "code",
   "execution_count": 16,
   "id": "6d566796",
   "metadata": {},
   "outputs": [
    {
     "name": "stdout",
     "output_type": "stream",
     "text": [
      "1\n",
      "7\n",
      "24\n"
     ]
    }
   ],
   "source": [
    "# min ,max and sum\n",
    "t=(3,2,1,5,6,7)\n",
    "print(min(t))\n",
    "print(max(t))\n",
    "print(sum(t))"
   ]
  },
  {
   "cell_type": "code",
   "execution_count": 1,
   "id": "9501e36a",
   "metadata": {},
   "outputs": [
    {
     "name": "stdout",
     "output_type": "stream",
     "text": [
      "{2, 4, 6}\n",
      "{2, 4, 6}\n",
      "{2, 4, 6}\n"
     ]
    }
   ],
   "source": [
    "#set operation\n",
    "# intersection\n",
    "#using all 3 method intersection\n",
    "s={1,2,3,4,5,6,7}\n",
    "t={4,6,8,9,2}\n",
    "r=s.intersection(t)\n",
    "print(r)\n",
    "r=s&t\n",
    "print(r)\n",
    "s.intersection_update(t)\n",
    "print(s)"
   ]
  },
  {
   "cell_type": "code",
   "execution_count": 2,
   "id": "6f4ab47a",
   "metadata": {},
   "outputs": [
    {
     "name": "stdout",
     "output_type": "stream",
     "text": [
      "1 : 10\n",
      "2 : 20\n",
      "3 : 30\n",
      "4 : 40\n"
     ]
    }
   ],
   "source": [
    "#based on d.items\n",
    "d={1:10,2:20,3:30,4:40}\n",
    "for k,v in d.items():\n",
    "    print(k,\":\",v)"
   ]
  },
  {
   "cell_type": "code",
   "execution_count": 3,
   "id": "b054f75c",
   "metadata": {},
   "outputs": [
    {
     "name": "stdout",
     "output_type": "stream",
     "text": [
      "{1: 10, 2: 120, 3: 30, 4: 40, 6: 400}\n"
     ]
    }
   ],
   "source": [
    "#update value into dictionary\n",
    "d={1:10,2:20,3:30,4:40}\n",
    "d[2]=120\n",
    "d[6]=400\n",
    "print(d)"
   ]
  },
  {
   "cell_type": "code",
   "execution_count": 9,
   "id": "749d0f87",
   "metadata": {},
   "outputs": [
    {
     "name": "stdout",
     "output_type": "stream",
     "text": [
      "2 1 3 2 1 3 2 4 3 4 3 4 2 3\n",
      "2 : 4\n",
      "1 : 2\n",
      "3 : 5\n",
      "4 : 3\n"
     ]
    }
   ],
   "source": [
    "l=list(map(int,input().split()))\n",
    "d={}\n",
    "for i in l:\n",
    "    d[i]=d.get(i,0)+1\n",
    "for k,v in d.items():\n",
    "    print(k,\":\",v)"
   ]
  },
  {
   "cell_type": "code",
   "execution_count": 10,
   "id": "4d323827",
   "metadata": {},
   "outputs": [
    {
     "name": "stdout",
     "output_type": "stream",
     "text": [
      "{2, 4}\n",
      "{8, 9}\n",
      "{2, 4}\n",
      "{2, 4}\n"
     ]
    }
   ],
   "source": [
    "# Difference\n",
    "s={1,4,2,6,5,7}\n",
    "t={8,6,9,7,1,5}\n",
    "print(s-t)\n",
    "print(t-s)\n",
    "print(s.difference(t))\n",
    "s.difference_update(t)\n",
    "print(s)\n",
    "\n",
    "\n",
    "\n",
    "\n"
   ]
  },
  {
   "cell_type": "code",
   "execution_count": 13,
   "id": "321064e3",
   "metadata": {},
   "outputs": [
    {
     "name": "stdout",
     "output_type": "stream",
     "text": [
      "40\n",
      "dict_keys([1, 2, 3, 4])\n",
      "dict_values([10, 20, 30, 40])\n",
      "dict_items([(1, 10), (2, 20), (3, 30), (4, 40)])\n"
     ]
    }
   ],
   "source": [
    "d={1:10,2:20,3:30,4:40}\n",
    "print(d[4])\n",
    "print(d.keys())\n",
    "print(d.values())\n",
    "print(d.items())"
   ]
  },
  {
   "cell_type": "code",
   "execution_count": 7,
   "id": "6f953be9",
   "metadata": {},
   "outputs": [
    {
     "name": "stdout",
     "output_type": "stream",
     "text": [
      "{'name': 'kumar', 'age': 20, 'dept': 'ece', 'id': 101}\n"
     ]
    }
   ],
   "source": [
    "d={\"name\":\"kumar\",\"age\":20,\"dept\":\"ece\",\"marks\":90,\"id\":101}\n",
    "d.pop(\"marks\")\n",
    "print(d)   "
   ]
  },
  {
   "cell_type": "code",
   "execution_count": 8,
   "id": "177c0402",
   "metadata": {},
   "outputs": [
    {
     "name": "stdout",
     "output_type": "stream",
     "text": [
      "{1: 10, 2: 20, 3: 30, 4: 40, 5: 50, 6: 60, 7: 70}\n"
     ]
    }
   ],
   "source": [
    "k=[1,2,3,4,5,6,7,8]\n",
    "v=[10,20,30,40,50,60,70]\n",
    "d=dict(zip(k,v))\n",
    "print(d)"
   ]
  },
  {
   "cell_type": "code",
   "execution_count": 11,
   "id": "cd842aad",
   "metadata": {},
   "outputs": [
    {
     "name": "stdout",
     "output_type": "stream",
     "text": [
      "{1: 10, 2: 200, 3: 30, 4: 40, 5: 50}\n"
     ]
    }
   ],
   "source": [
    "# combining two ditionary\n",
    "d={1:10,2:20,3:30}\n",
    "t={4:40,5:50,2:200}\n",
    "d.update(t)\n",
    "print(d)"
   ]
  },
  {
   "cell_type": "code",
   "execution_count": 13,
   "id": "57e7bc24",
   "metadata": {},
   "outputs": [
    {
     "name": "stdout",
     "output_type": "stream",
     "text": [
      "[1, 2, 4, 5]\n"
     ]
    }
   ],
   "source": [
    "#list as a dictionary key value\n",
    "d={1:[2,3,4,5],2:[1,3,5],3:[1,2,4,5],4:[1,3,5],5:[1,2,3,4]}\n",
    "print(d[3])"
   ]
  },
  {
   "cell_type": "code",
   "execution_count": 24,
   "id": "cd4c7f98",
   "metadata": {},
   "outputs": [
    {
     "name": "stdout",
     "output_type": "stream",
     "text": [
      "{1: 100, 2: 20, 3: 30, 4: 40} {1: 100, 2: 20, 3: 30, 4: 40}\n"
     ]
    }
   ],
   "source": [
    "#aliasing in dictionary\n",
    "d={1:10,2:20,3:30,4:40}\n",
    "t=d\n",
    "t[1]=100\n",
    "print(t,d)\n"
   ]
  },
  {
   "cell_type": "code",
   "execution_count": 25,
   "id": "9445b499",
   "metadata": {},
   "outputs": [
    {
     "name": "stdout",
     "output_type": "stream",
     "text": [
      "{1: 100, 2: 20, 3: 30, 4: 40} {1: 10, 2: 20, 3: 30, 4: 40}\n"
     ]
    }
   ],
   "source": [
    "# copy in dictionary\n",
    "d={1:10,2:20,3:30,4:40}\n",
    "t=d.copy()\n",
    "t[1]=100\n",
    "print(t,d)"
   ]
  },
  {
   "cell_type": "code",
   "execution_count": 3,
   "id": "603f7e28",
   "metadata": {},
   "outputs": [
    {
     "name": "stdout",
     "output_type": "stream",
     "text": [
      "['df', 'fds', 'wer', 'sd', 'er', 'ut']\n"
     ]
    }
   ],
   "source": [
    "# split\n",
    "s='df fds wer sd er ut'\n",
    "l=s.split()\n",
    "print(l)"
   ]
  },
  {
   "cell_type": "code",
   "execution_count": 4,
   "id": "924ac673",
   "metadata": {},
   "outputs": [
    {
     "name": "stdout",
     "output_type": "stream",
     "text": [
      "['df', 'fds', 'wer', 'sd er ut gf bf yo ga ']\n"
     ]
    }
   ],
   "source": [
    "# split \n",
    "# 2 method\n",
    "s='df fds wer sd er ut gf bf yo ga '\n",
    "l=s.split(' ',3)\n",
    "print(l)"
   ]
  },
  {
   "cell_type": "code",
   "execution_count": 5,
   "id": "7695f8c4",
   "metadata": {},
   "outputs": [
    {
     "name": "stdout",
     "output_type": "stream",
     "text": [
      "['12', '05', '2023']\n"
     ]
    }
   ],
   "source": [
    "s=\"12/05/2023\"\n",
    "l=s.split('/')\n",
    "print(l)\n"
   ]
  },
  {
   "cell_type": "code",
   "execution_count": 10,
   "id": "98166339",
   "metadata": {},
   "outputs": [
    {
     "name": "stdout",
     "output_type": "stream",
     "text": [
      "['12', '05/2023']\n",
      "['12/05', '2023']\n"
     ]
    }
   ],
   "source": [
    "s='12/05/2023'\n",
    "l=s.split('/',1)\n",
    "print(l)\n",
    "r=s.rsplit('/',1)\n",
    "print(r)"
   ]
  },
  {
   "cell_type": "code",
   "execution_count": 11,
   "id": "8031ce7e",
   "metadata": {},
   "outputs": [
    {
     "name": "stdout",
     "output_type": "stream",
     "text": [
      "12-05-2023\n"
     ]
    }
   ],
   "source": [
    "#join\n",
    "l=['12','05','2023']\n",
    "st='-'.join(l)\n",
    "print(st)"
   ]
  },
  {
   "cell_type": "code",
   "execution_count": 12,
   "id": "9efa7207",
   "metadata": {},
   "outputs": [
    {
     "name": "stdout",
     "output_type": "stream",
     "text": [
      "ha@tox#35$a\n",
      "a5@3xo#ta$h\n"
     ]
    }
   ],
   "source": [
    "#wps to revers the given string without reverse the special symbols\n",
    "l=list(input())\n",
    "i=0\n",
    "j=len(l)-1\n",
    "while i<j:\n",
    "    if not l[i].isalnum():\n",
    "        i=i+1\n",
    "    elif not l[j].isalnum():\n",
    "        j=j-1\n",
    "    else:\n",
    "        l[i],l[j]=l[j],l[i]\n",
    "        i=i+1\n",
    "        j=j-1\n",
    "print(''.join(l))        "
   ]
  },
  {
   "cell_type": "code",
   "execution_count": 1,
   "id": "a9f21428",
   "metadata": {},
   "outputs": [
    {
     "ename": "SyntaxError",
     "evalue": "'break' outside loop (2833585057.py, line 12)",
     "output_type": "error",
     "traceback": [
      "\u001b[1;36m  Cell \u001b[1;32mIn[1], line 12\u001b[1;36m\u001b[0m\n\u001b[1;33m    break\u001b[0m\n\u001b[1;37m    ^\u001b[0m\n\u001b[1;31mSyntaxError\u001b[0m\u001b[1;31m:\u001b[0m 'break' outside loop\n"
     ]
    }
   ],
   "source": [
    "st=[]\n",
    "while True:\n",
    "    print(\"1.push 2.pop 3.peek 4.exit\")\n",
    "    if ch==1:\n",
    "        st.append(int(input()))\n",
    "    elif ch==2:\n",
    "        if len(st)==0:\n",
    "            print(\"stack is empty\")\n",
    "        else:\n",
    "            print(st[-1])\n",
    "else:\n",
    "    break\n",
    "    "
   ]
  },
  {
   "cell_type": "code",
   "execution_count": 2,
   "id": "e519ece2",
   "metadata": {},
   "outputs": [
    {
     "name": "stdout",
     "output_type": "stream",
     "text": [
      "yogesh\n",
      "hsegoy\n"
     ]
    }
   ],
   "source": [
    "st=[]\n",
    "s=input()\n",
    "for i in s:\n",
    "    st.append(i)\n",
    "rs=''\n",
    "while len (st)!=0:\n",
    "    rs=rs+st.pop()\n",
    "print(rs)    "
   ]
  },
  {
   "cell_type": "code",
   "execution_count": 5,
   "id": "3ef4fbe9",
   "metadata": {},
   "outputs": [
    {
     "name": "stdout",
     "output_type": "stream",
     "text": [
      "92*3+6+42/-\n",
      "25.0\n"
     ]
    }
   ],
   "source": [
    "st=[]\n",
    "s=input()\n",
    "for i in s:\n",
    "    if i.isdigit():\n",
    "        st.append(int(i))\n",
    "    else:\n",
    "        b=st.pop()\n",
    "        a=st.pop()\n",
    "        if i==\"+\":\n",
    "            st.append(a+b)\n",
    "        elif i==\"-\":\n",
    "            st.append(a-b)\n",
    "        elif i==\"*\":\n",
    "            st.append(a*b)\n",
    "        elif i==\"/\":\n",
    "            st.append(a/b)\n",
    "        elif i==\"%\":\n",
    "            st.append(a%b)\n",
    "print(st[-1])            \n",
    "        "
   ]
  },
  {
   "cell_type": "code",
   "execution_count": 4,
   "id": "1762f33c",
   "metadata": {},
   "outputs": [
    {
     "name": "stdout",
     "output_type": "stream",
     "text": [
      "True\n",
      "False\n"
     ]
    }
   ],
   "source": [
    "def isprime(n):\n",
    "    for i in range(2,n//2+1):\n",
    "        if n%i==0:\n",
    "            return False\n",
    "    else:\n",
    "        return True\n",
    "\n",
    "print(isprime(5))\n",
    "print(isprime(15))"
   ]
  },
  {
   "cell_type": "code",
   "execution_count": 7,
   "id": "51ec5990",
   "metadata": {},
   "outputs": [],
   "source": [
    "def ispal(n):\n",
    "    if str(n)==str(n)[::-1]:\n",
    "        return True\n",
    "    else:\n",
    "        return False"
   ]
  },
  {
   "cell_type": "code",
   "execution_count": 13,
   "id": "1756e986",
   "metadata": {},
   "outputs": [
    {
     "name": "stdout",
     "output_type": "stream",
     "text": [
      "True\n"
     ]
    }
   ],
   "source": [
    "print(ispal(\"nitin\"))"
   ]
  },
  {
   "cell_type": "code",
   "execution_count": 2,
   "id": "998a0ca2",
   "metadata": {},
   "outputs": [
    {
     "name": "stdout",
     "output_type": "stream",
     "text": [
      "40 20\n"
     ]
    }
   ],
   "source": [
    "#global scope:\n",
    "def fun():\n",
    "    b=20\n",
    "    print(a,b)\n",
    "\n",
    "a=40\n",
    "fun()"
   ]
  },
  {
   "cell_type": "code",
   "execution_count": 4,
   "id": "fde1dc52",
   "metadata": {},
   "outputs": [
    {
     "name": "stdout",
     "output_type": "stream",
     "text": [
      "15 20\n",
      "40\n"
     ]
    }
   ],
   "source": [
    "def fun():\n",
    "    b=20\n",
    "    a=15\n",
    "    print(a,b)\n",
    "\n",
    "a=40\n",
    "fun()\n",
    "print(a)"
   ]
  },
  {
   "cell_type": "code",
   "execution_count": 5,
   "id": "1820e325",
   "metadata": {},
   "outputs": [
    {
     "name": "stdout",
     "output_type": "stream",
     "text": [
      "12\n"
     ]
    }
   ],
   "source": [
    "#lambda \n",
    "print((lambda x:x*2)(6))"
   ]
  },
  {
   "cell_type": "code",
   "execution_count": 6,
   "id": "00a11b7f",
   "metadata": {},
   "outputs": [
    {
     "name": "stdout",
     "output_type": "stream",
     "text": [
      "13\n"
     ]
    }
   ],
   "source": [
    "add=lambda x,y:x+y\n",
    "print(add(5,8))"
   ]
  },
  {
   "cell_type": "code",
   "execution_count": 9,
   "id": "0d2921a2",
   "metadata": {},
   "outputs": [
    {
     "data": {
      "text/plain": [
       "False"
      ]
     },
     "execution_count": 9,
     "metadata": {},
     "output_type": "execute_result"
    }
   ],
   "source": [
    "print=lambda x,y:x>y\n",
    "print(7,9)"
   ]
  },
  {
   "cell_type": "code",
   "execution_count": 11,
   "id": "e3b5aed6",
   "metadata": {},
   "outputs": [
    {
     "data": {
      "text/plain": [
       "True"
      ]
     },
     "execution_count": 11,
     "metadata": {},
     "output_type": "execute_result"
    }
   ],
   "source": [
    "isgt=lambda x,y:x>y\n",
    "isgt(15,9)"
   ]
  },
  {
   "cell_type": "code",
   "execution_count": 1,
   "id": "e9f24132",
   "metadata": {},
   "outputs": [
    {
     "name": "stdout",
     "output_type": "stream",
     "text": [
      "[10, 4, 6, 10, 14]\n"
     ]
    }
   ],
   "source": [
    "#map  function\n",
    "\n",
    "l=[5,2,3,5,7]\n",
    "print(list(map(lambda x:x*2,l)))"
   ]
  },
  {
   "cell_type": "markdown",
   "id": "ba2642bc",
   "metadata": {},
   "source": [
    "# binary search algorithm:-\n",
    "a=list(map(int,input().split()))\n",
    "k=int(input())\n",
    "l=0\n",
    "u=len(a)-1\n",
    "while l<=u:\n",
    "    m=(l+u)//2\n",
    "    if a[m]==k:\n",
    "        print(m)\n",
    "        break\n",
    "    elif k>a[m]:\n",
    "        l=m+1\n",
    "    else:\n",
    "        u=m-1\n",
    "else:\n",
    "    print(-1)"
   ]
  },
  {
   "cell_type": "code",
   "execution_count": 5,
   "id": "99027d2a",
   "metadata": {},
   "outputs": [
    {
     "name": "stdout",
     "output_type": "stream",
     "text": [
      "2 3 4 6 7 8 9\n",
      "8\n",
      "5\n"
     ]
    }
   ],
   "source": [
    "# binary search implementation using resursion\n",
    "def bs(a,l,u,k):\n",
    "    if l<=u:\n",
    "        m=(l+u)//2\n",
    "        if a[m]==k:\n",
    "            return m\n",
    "        elif k>a[m]:\n",
    "            return bs(a,m+1,u,k)\n",
    "        else:\n",
    "            return bs(a,1,m-1,k)\n",
    "    else:\n",
    "        return -1\n",
    "a=list(map(int,input().split()))\n",
    "k=int(input())\n",
    "l=0\n",
    "u=len(a)-1\n",
    "print(bs(a,1,u,k))"
   ]
  },
  {
   "cell_type": "code",
   "execution_count": 7,
   "id": "cde9d18c",
   "metadata": {},
   "outputs": [
    {
     "name": "stdout",
     "output_type": "stream",
     "text": [
      "8\n"
     ]
    }
   ],
   "source": [
    "#fibonacci sequence\n",
    "def fib(n):\n",
    "    if n==1:\n",
    "        return 0\n",
    "    elif n==2:\n",
    "        return 1\n",
    "    else:\n",
    "        return fib(n-1)+fib(n-2)\n",
    "print(fib(7))    "
   ]
  },
  {
   "cell_type": "code",
   "execution_count": 7,
   "id": "e2a609b5",
   "metadata": {},
   "outputs": [
    {
     "name": "stdout",
     "output_type": "stream",
     "text": [
      "yogesh is bad boy\n"
     ]
    }
   ],
   "source": [
    "f=open(\"yogesh.txt\",\"r\")\n",
    "print(f.read())\n",
    "f.close()"
   ]
  },
  {
   "cell_type": "code",
   "execution_count": 10,
   "id": "70d01494",
   "metadata": {},
   "outputs": [
    {
     "name": "stdout",
     "output_type": "stream",
     "text": [
      "0\n",
      "yogesh is bad boy\n",
      "17\n"
     ]
    }
   ],
   "source": [
    "f=open(\"yogesh.txt\",\"r\")\n",
    "print(f.tell())\n",
    "print(f.read())\n",
    "print(f.tell())\n",
    "f.close()"
   ]
  },
  {
   "cell_type": "code",
   "execution_count": 18,
   "id": "78de1200",
   "metadata": {},
   "outputs": [],
   "source": [
    "#write mode:\n",
    "f=open(\"yogesh.txt\",\"w\")\n",
    "f.write(\"yogesh is gandu\")\n",
    "f.close()"
   ]
  },
  {
   "cell_type": "code",
   "execution_count": 19,
   "id": "c71b7035",
   "metadata": {},
   "outputs": [],
   "source": [
    "#replace\n",
    "f=open(\"yogesh.txt\",\"r\")\n",
    "s=f.read()\n",
    "s=s.replace(\"gandu\",\"bad\")\n",
    "f.close()\n",
    "f=open(\"yogesh.txt\",\"w\")\n",
    "f.write(s)\n",
    "f.close()"
   ]
  },
  {
   "cell_type": "code",
   "execution_count": 3,
   "id": "d1b7cbaa",
   "metadata": {},
   "outputs": [
    {
     "name": "stdout",
     "output_type": "stream",
     "text": [
      "5\n",
      "4\n",
      "5 2\n",
      "0\n"
     ]
    }
   ],
   "source": [
    "n = int(input().strip())\n",
    "squares = list(map(int, input().strip().split(' ')))\n",
    "d,m = input().strip().split(' ')\n",
    "d,m = [int(d),int(m)]\n",
    "# your code goes here\n",
    "\n",
    "count = 0\n",
    "for i in range(m, n+1):\n",
    "#    print(i-m, i, squares[i-m:i], d)\n",
    "    if sum(squares[i-m:i]) == d:\n",
    "        count += 1\n",
    "        \n",
    "print(count) "
   ]
  },
  {
   "cell_type": "code",
   "execution_count": 4,
   "id": "75a96f2a",
   "metadata": {},
   "outputs": [],
   "source": [
    "#added contain to the existing file\n",
    "f=open(\"yogesh.txt\",\"a\")\n",
    "f.write(\" Gandu\"+\"chutiaya\")\n",
    "f.close()\n"
   ]
  },
  {
   "cell_type": "code",
   "execution_count": 2,
   "id": "79b560d2",
   "metadata": {},
   "outputs": [
    {
     "name": "stdout",
     "output_type": "stream",
     "text": [
      "122\n",
      "131\n",
      "0\n",
      "yogesh is badGanduchutiaya Ganduchutiaya Ganduchutiaya Ganduchutiayaoooo yeahoooo yeahoooo yeahoooo yeahoooo yeahoooo yeahoooo yeah\n"
     ]
    }
   ],
   "source": [
    "#added new contain to the file and read it\n",
    "f=open(\"yogesh.txt\",\"a+\")\n",
    "print(f.tell())\n",
    "f.write(\"oooo yeah\")\n",
    "print(f.tell())\n",
    "f.seek(0,0)\n",
    "print(f.tell())\n",
    "print(f.read())\n",
    "f.close()"
   ]
  },
  {
   "cell_type": "code",
   "execution_count": 5,
   "id": "c23238f0",
   "metadata": {},
   "outputs": [
    {
     "name": "stdout",
     "output_type": "stream",
     "text": [
      "hello to all\n",
      "hello to all\n"
     ]
    }
   ],
   "source": [
    "#oops\n",
    "#how to create and object:-\n",
    "class A:\n",
    "    def fun(s):\n",
    "        print(\"hello to all\")\n",
    "obj=A() \n",
    "obj.fun()\n",
    "#2nd to find\n",
    "ob1=A()\n",
    "ob1.fun()"
   ]
  },
  {
   "cell_type": "code",
   "execution_count": 12,
   "id": "688d2c4c",
   "metadata": {},
   "outputs": [
    {
     "name": "stdout",
     "output_type": "stream",
     "text": [
      "3 5 8\n",
      "3 5 8\n",
      "5 5 10\n",
      "65 4 69\n"
     ]
    }
   ],
   "source": [
    "class A:\n",
    "    def __init__(s,a,b):\n",
    "        s.a=a\n",
    "        s.b=b\n",
    "    def display(s):\n",
    "        print(s.a,s.b,s.a+s.b)\n",
    "ob1=A(3,5)\n",
    "ob2=A(5,5)\n",
    "ob3=A(65,4)\n",
    "ob1.display()\n",
    "ob1.display()\n",
    "ob2.display()\n",
    "ob3.display()\n"
   ]
  },
  {
   "cell_type": "code",
   "execution_count": 2,
   "id": "4628cf2f",
   "metadata": {},
   "outputs": [
    {
     "name": "stdout",
     "output_type": "stream",
     "text": [
      "from class A\n",
      "from class B\n"
     ]
    }
   ],
   "source": [
    "#simple inheritance\n",
    "class A:\n",
    "    def fun(s):\n",
    "        print(\"from class A\")\n",
    "class B(A):\n",
    "    def fun1(s):\n",
    "        print(\"from class B\")\n",
    "obj=B()\n",
    "obj.fun()\n",
    "obj.fun1()\n"
   ]
  },
  {
   "cell_type": "code",
   "execution_count": 1,
   "id": "3d32b2aa",
   "metadata": {},
   "outputs": [
    {
     "name": "stdout",
     "output_type": "stream",
     "text": [
      "from class B\n"
     ]
    }
   ],
   "source": [
    "#super function\n",
    "class A:\n",
    "    def fun(s):\n",
    "        print(\"from class A\")\n",
    "class B(A):\n",
    "    def fun(s):\n",
    "        print(\"from class B\")\n",
    "        super().fun\n",
    "obj=B()\n",
    "obj.fun()"
   ]
  },
  {
   "cell_type": "code",
   "execution_count": 3,
   "id": "a06ed0a4",
   "metadata": {},
   "outputs": [
    {
     "name": "stdout",
     "output_type": "stream",
     "text": [
      "4 5 2 7\n",
      "9 5 4 1\n"
     ]
    }
   ],
   "source": [
    "class A:\n",
    "    def __init__(s,a,b):\n",
    "        s.a=a\n",
    "        s.b=b\n",
    "    def disp(s):\n",
    "        print(s.a,s.b,end=\" \")\n",
    "class B(A):\n",
    "    def __init__(s,a,b,c,d):\n",
    "        s.c=c\n",
    "        s.d=d\n",
    "        super(). __init__ (a,b)\n",
    "    def disp(s):\n",
    "        super().disp()\n",
    "        print(s.c,s.d)\n",
    "ob1=B(4,5,2,7)\n",
    "ob2=B(9,5,4,1)\n",
    "ob1.disp()\n",
    "ob2.disp()\n",
    "    "
   ]
  },
  {
   "cell_type": "code",
   "execution_count": 2,
   "id": "928bafd8",
   "metadata": {},
   "outputs": [
    {
     "name": "stdout",
     "output_type": "stream",
     "text": [
      "20 mp 9966338869 101\n",
      "yogesh it 69\n",
      "20 ord 9966338869 101\n",
      "rajiv it 95\n",
      "20 bhr 9966338869 101\n",
      "nitin it 89\n"
     ]
    }
   ],
   "source": [
    "class person:\n",
    "    def __init__(s,name,age,adders,phone):\n",
    "        s.name=name\n",
    "        s.age=age\n",
    "        s.adders=adders\n",
    "        s.phone=phone\n",
    "    def disp(s):\n",
    "        print(s.name,s.age,s.adders,s.phone)\n",
    "class student(person):\n",
    "    def __init__(s,sid,name,age,adders,phone,branch,marks):\n",
    "        s.sid=sid\n",
    "        s.branch=branch\n",
    "        s.marks=marks\n",
    "        super(). __init__(name,age,adders,phone)\n",
    "    def disp(s):\n",
    "        super(). disp()\n",
    "        print(s.sid,s.branch,s.marks)\n",
    "s1=student('yogesh',22,'mp',9966338869,101,'it',69)   \n",
    "s2=student('rajiv',22,'ord',9966338869,101,'it',95)       \n",
    "s3=student('nitin',22,'bhr',9966338869,101,'it',89)\n",
    "s1.disp()\n",
    "s2.disp()\n",
    "s3.disp()"
   ]
  },
  {
   "cell_type": "code",
   "execution_count": 4,
   "id": "f7de733a",
   "metadata": {},
   "outputs": [
    {
     "name": "stdout",
     "output_type": "stream",
     "text": [
      "78.5\n",
      "9\n"
     ]
    }
   ],
   "source": [
    "#Abstraction\n",
    "from abc import*\n",
    "class shape (ABC):\n",
    "    @abstractmethod\n",
    "    def area (s,x):\n",
    "        pass\n",
    "class circle(shape):\n",
    "    def area(s,r):\n",
    "        print(r*r*3.14)\n",
    "class sqr (shape):\n",
    "    def area (s,sd):\n",
    "        print(sd*sd)\n",
    "C1=circle()\n",
    "C1.area(5)\n",
    "S1=sqr()\n",
    "S1.area(3)"
   ]
  },
  {
   "cell_type": "code",
   "execution_count": 15,
   "id": "8b85cd84",
   "metadata": {},
   "outputs": [
    {
     "name": "stdout",
     "output_type": "stream",
     "text": [
      "5\n",
      "0\n",
      "b should not be 0\n",
      "rem part of program\n"
     ]
    }
   ],
   "source": [
    "#Exception\n",
    "try:\n",
    "    a=int(input())\n",
    "    b=int(input())\n",
    "    c=a/b\n",
    "    print(c)\n",
    "except ValueError as v:\n",
    "    print(v)\n",
    "except ZeroDivisionError as v:\n",
    "    print(\"b should not be 0\")\n",
    "print(\"rem part of program\")    "
   ]
  },
  {
   "cell_type": "code",
   "execution_count": 18,
   "id": "9e4fd250",
   "metadata": {},
   "outputs": [
    {
     "name": "stdout",
     "output_type": "stream",
     "text": [
      "object of type class A\n"
     ]
    }
   ],
   "source": [
    "class A:\n",
    "    def  __str__(s):\n",
    "        return \"object of type class A\"\n",
    "obj=A()\n",
    "print(obj)"
   ]
  },
  {
   "cell_type": "code",
   "execution_count": 1,
   "id": "bb5e8b2c",
   "metadata": {},
   "outputs": [
    {
     "name": "stdout",
     "output_type": "stream",
     "text": [
      "13\n"
     ]
    }
   ],
   "source": [
    "class fruits:\n",
    "    def __init__(self, price):\n",
    "        self.price = price\n",
    "obj=fruits(50)\n",
    " \n",
    "obj.quantity=10\n",
    "obj.bags=2\n",
    " \n",
    "print(obj.quantity+len(obj.__dict__))"
   ]
  },
  {
   "cell_type": "code",
   "execution_count": 2,
   "id": "d6d7147d",
   "metadata": {},
   "outputs": [
    {
     "name": "stdout",
     "output_type": "stream",
     "text": [
      "7\n"
     ]
    }
   ],
   "source": [
    "class change:\n",
    "    def __init__(self, x, y, z):\n",
    "        self.a = x + y + z\n",
    " \n",
    "x = change(1,2,3)\n",
    "y = getattr(x, 'a')\n",
    "setattr(x, 'a', y+1)\n",
    "print(x.a)"
   ]
  },
  {
   "cell_type": "code",
   "execution_count": 3,
   "id": "1ce307cf",
   "metadata": {},
   "outputs": [
    {
     "name": "stdout",
     "output_type": "stream",
     "text": [
      "True\n"
     ]
    }
   ],
   "source": [
    "class stud:\n",
    "   def __init__(self, roll_no, grade):\n",
    "      self.roll_no = roll_no\n",
    "      self.grade = grade\n",
    "   def display (self):\n",
    "      print(\"Roll no : \", self.roll_no,  \", Grade: \", self.grade)\n",
    "stud1 = stud(34, 'S')\n",
    "stud1.age=7\n",
    "print(hasattr(stud1, 'age'))"
   ]
  },
  {
   "cell_type": "code",
   "execution_count": 4,
   "id": "7a0012d9",
   "metadata": {},
   "outputs": [
    {
     "ename": "AttributeError",
     "evalue": "'Derived_Test' object has no attribute 'x'",
     "output_type": "error",
     "traceback": [
      "\u001b[1;31m---------------------------------------------------------------------------\u001b[0m",
      "\u001b[1;31mAttributeError\u001b[0m                            Traceback (most recent call last)",
      "Cell \u001b[1;32mIn[4], line 10\u001b[0m\n\u001b[0;32m      8\u001b[0m     b \u001b[38;5;241m=\u001b[39m Derived_Test()\n\u001b[0;32m      9\u001b[0m     \u001b[38;5;28mprint\u001b[39m(b\u001b[38;5;241m.\u001b[39mx,b\u001b[38;5;241m.\u001b[39my)\n\u001b[1;32m---> 10\u001b[0m \u001b[43mmain\u001b[49m\u001b[43m(\u001b[49m\u001b[43m)\u001b[49m\n",
      "Cell \u001b[1;32mIn[4], line 9\u001b[0m, in \u001b[0;36mmain\u001b[1;34m()\u001b[0m\n\u001b[0;32m      7\u001b[0m \u001b[38;5;28;01mdef\u001b[39;00m \u001b[38;5;21mmain\u001b[39m():\n\u001b[0;32m      8\u001b[0m     b \u001b[38;5;241m=\u001b[39m Derived_Test()\n\u001b[1;32m----> 9\u001b[0m     \u001b[38;5;28mprint\u001b[39m(\u001b[43mb\u001b[49m\u001b[38;5;241;43m.\u001b[39;49m\u001b[43mx\u001b[49m,b\u001b[38;5;241m.\u001b[39my)\n",
      "\u001b[1;31mAttributeError\u001b[0m: 'Derived_Test' object has no attribute 'x'"
     ]
    }
   ],
   "source": [
    "class Test:\n",
    "    def __init__(self):\n",
    "        self.x = 0\n",
    "class Derived_Test(Test):\n",
    "    def __init__(self):\n",
    "        self.y = 1\n",
    "def main():\n",
    "    b = Derived_Test()\n",
    "    print(b.x,b.y)\n",
    "main()"
   ]
  },
  {
   "cell_type": "code",
   "execution_count": 5,
   "id": "2aa166af",
   "metadata": {},
   "outputs": [
    {
     "name": "stdout",
     "output_type": "stream",
     "text": [
      "A disp()\n"
     ]
    }
   ],
   "source": [
    "class A():\n",
    "    def disp(self):\n",
    "        print(\"A disp()\")\n",
    "class B(A):\n",
    "    pass\n",
    "obj = B()\n",
    "obj.disp()"
   ]
  },
  {
   "cell_type": "code",
   "execution_count": null,
   "id": "282b17c4",
   "metadata": {},
   "outputs": [],
   "source": []
  }
 ],
 "metadata": {
  "kernelspec": {
   "display_name": "Python 3 (ipykernel)",
   "language": "python",
   "name": "python3"
  },
  "language_info": {
   "codemirror_mode": {
    "name": "ipython",
    "version": 3
   },
   "file_extension": ".py",
   "mimetype": "text/x-python",
   "name": "python",
   "nbconvert_exporter": "python",
   "pygments_lexer": "ipython3",
   "version": "3.10.9"
  }
 },
 "nbformat": 4,
 "nbformat_minor": 5
}
