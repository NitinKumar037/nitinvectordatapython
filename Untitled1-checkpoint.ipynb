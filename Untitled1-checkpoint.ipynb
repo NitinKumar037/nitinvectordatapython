{
 "cells": [
  {
   "cell_type": "code",
   "execution_count": 18,
   "id": "e496220a",
   "metadata": {},
   "outputs": [
    {
     "name": "stdout",
     "output_type": "stream",
     "text": [
      "5\n",
      "01 01 01 01 01 \n",
      "02 02 02 02 02 \n",
      "03 03 03 03 03 \n",
      "04 04 04 04 04 \n",
      "05 05 05 05 05 \n"
     ]
    }
   ],
   "source": [
    "n=int(input())\n",
    "for i in range (1,n+1):\n",
    "    c=i\n",
    "    for j in range (1,n+1):\n",
    "        print(\"{:02d}\".format(i),end=\" \")\n",
    "        c=c+n\n",
    "    print()   \n",
    "    "
   ]
  },
  {
   "cell_type": "code",
   "execution_count": 1,
   "id": "912c4c29",
   "metadata": {},
   "outputs": [
    {
     "name": "stdout",
     "output_type": "stream",
     "text": [
      "4\n",
      "6\n",
      "7\n",
      "6\n"
     ]
    }
   ],
   "source": [
    "l=[1,2,3,4,5,6,7]\n",
    "print(l[3])\n",
    "print(l[5])\n",
    "print(l[-1])\n",
    "print(l[-2])"
   ]
  },
  {
   "cell_type": "code",
   "execution_count": 2,
   "id": "107ec762",
   "metadata": {},
   "outputs": [
    {
     "name": "stdout",
     "output_type": "stream",
     "text": [
      "5 2 7 3 9 8 7 6 5 \n",
      "7\n",
      "2\n"
     ]
    }
   ],
   "source": [
    "l=list(map(int,input().split()))\n",
    "k=int(input())\n",
    "for i in range (len(l)):\n",
    "    if l[i]==k:\n",
    "        print(i)\n",
    "        break\n",
    "else:\n",
    "    print(-1)"
   ]
  },
  {
   "cell_type": "code",
   "execution_count": 1,
   "id": "c0c01a6b",
   "metadata": {},
   "outputs": [
    {
     "name": "stdout",
     "output_type": "stream",
     "text": [
      "9 5 7 8 6 2 4 3\n",
      "[2, 3, 4, 5, 6, 7, 8, 9]\n"
     ]
    }
   ],
   "source": [
    "l=list(map(int,input().split()))\n",
    "for i in range (len(l)-1):\n",
    "    t=i\n",
    "    for j in range (i+1,len(l)):\n",
    "        if l [j]<l[t]:\n",
    "            t=j\n",
    "    l[i],l[t]=l[t],l[i]\n",
    "print(l)    "
   ]
  },
  {
   "cell_type": "code",
   "execution_count": 3,
   "id": "2d20055d",
   "metadata": {},
   "outputs": [
    {
     "name": "stdout",
     "output_type": "stream",
     "text": [
      "2\n",
      "3\n",
      "1\n",
      "2\n",
      "3\n",
      "4\n",
      "5\n",
      "6\n",
      "[[1, 2, 3], [4, 5, 6]]\n"
     ]
    }
   ],
   "source": [
    "n=int(input())\n",
    "m=int(input())\n",
    "l=[[int(input())for j in range(m)]for i in range(n)]\n",
    "print(l)"
   ]
  },
  {
   "cell_type": "code",
   "execution_count": 5,
   "id": "175b9aa1",
   "metadata": {},
   "outputs": [
    {
     "name": "stdout",
     "output_type": "stream",
     "text": [
      "20\n"
     ]
    }
   ],
   "source": [
    "l=[2,3,4,5,6]\n",
    "print(sum(l))"
   ]
  },
  {
   "cell_type": "code",
   "execution_count": 7,
   "id": "b903f7b4",
   "metadata": {},
   "outputs": [
    {
     "name": "stdout",
     "output_type": "stream",
     "text": [
      "9 3 5 1 2 6 3 4 7 6\n",
      "4\n",
      "[1, 3, 5, 9, 7, 6, 6, 4, 3, 2]\n"
     ]
    }
   ],
   "source": [
    "#slicing\n",
    "l=list(map(int,input().split()))\n",
    "k=int(input())\n",
    "l=sorted(l[:k])+sorted(l[k:],reverse=True)\n",
    "print(l)"
   ]
  },
  {
   "cell_type": "code",
   "execution_count": null,
   "id": "63040163",
   "metadata": {},
   "outputs": [],
   "source": []
  }
 ],
 "metadata": {
  "kernelspec": {
   "display_name": "Python 3 (ipykernel)",
   "language": "python",
   "name": "python3"
  },
  "language_info": {
   "codemirror_mode": {
    "name": "ipython",
    "version": 3
   },
   "file_extension": ".py",
   "mimetype": "text/x-python",
   "name": "python",
   "nbconvert_exporter": "python",
   "pygments_lexer": "ipython3",
   "version": "3.10.9"
  }
 },
 "nbformat": 4,
 "nbformat_minor": 5
}
