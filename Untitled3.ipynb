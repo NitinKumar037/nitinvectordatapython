{
 "cells": [
  {
   "cell_type": "code",
   "execution_count": 5,
   "id": "28ad806a",
   "metadata": {},
   "outputs": [
    {
     "name": "stdout",
     "output_type": "stream",
     "text": [
      "(){}\n",
      "valid\n"
     ]
    }
   ],
   "source": [
    "#WAP to balance brackets using stack.\n",
    "s=input()\n",
    "st=[]\n",
    "for i in s:\n",
    "    if i in\"({[\":\n",
    "        st.append(i)\n",
    "    else:\n",
    "        if len(st)==0:\n",
    "            print(\"invalid\")\n",
    "        else:\n",
    "            if st[-1]=='(' and i==')':\n",
    "                st.pop()\n",
    "            elif st[-1]=='{' and i==\"}\":\n",
    "                st.pop()\n",
    "            elif st[-1]=='[' and i==']':\n",
    "                st.pop()\n",
    "            else:\n",
    "                break\n",
    "if len(st)==0:\n",
    "    print('valid')\n",
    "else:\n",
    "    print('invalid')"
   ]
  },
  {
   "cell_type": "code",
   "execution_count": 6,
   "id": "a730d4cf",
   "metadata": {},
   "outputs": [
    {
     "name": "stdout",
     "output_type": "stream",
     "text": [
      "1.Enqueue 2.Dequeue 3.Display 4.Exit\n",
      "1\n",
      "2\n",
      "1.Enqueue 2.Dequeue 3.Display 4.Exit\n",
      "1\n",
      "4\n",
      "1.Enqueue 2.Dequeue 3.Display 4.Exit\n",
      "1\n",
      "5\n",
      "1.Enqueue 2.Dequeue 3.Display 4.Exit\n",
      "1\n",
      "3\n",
      "1.Enqueue 2.Dequeue 3.Display 4.Exit\n",
      "3\n",
      "2 4 5 3\n",
      "1.Enqueue 2.Dequeue 3.Display 4.Exit\n",
      "4\n"
     ]
    }
   ],
   "source": [
    "#WAP to implement basic operations(Enqueue,Dequeue,Display & Exit) on queue.\n",
    "qu=[]\n",
    "while True:\n",
    "    print(\"1.Enqueue 2.Dequeue 3.Display 4.Exit\")\n",
    "    ch=int(input())\n",
    "    if ch==1:\n",
    "        qu.append(int(input()))\n",
    "    elif ch==2:\n",
    "        if len (qu)==0:\n",
    "            print(\"queue is empty\")\n",
    "        else:print(qu.pop(0)) \n",
    "    elif ch==3:\n",
    "        if len(qu)==0:\n",
    "            print(\"Queue is empty\")\n",
    "        else:\n",
    "            print(*qu)\n",
    "    else:\n",
    "        break\n"
   ]
  },
  {
   "cell_type": "code",
   "execution_count": 8,
   "id": "c3e45278",
   "metadata": {},
   "outputs": [
    {
     "name": "stdout",
     "output_type": "stream",
     "text": [
      "15\n",
      "25\n",
      "5\n"
     ]
    }
   ],
   "source": [
    "#Q3-Create a function which will accepts *args and return the gcd. Take i/p from user and print the result with proper message. (def find_gcd(*args): #functionbody)\n",
    "def gcd(a,b):\n",
    "    while b!=0:\n",
    "        r=a%b\n",
    "        a=b\n",
    "        b=r\n",
    "    return a\n",
    "a=int(input())\n",
    "b=int(input())\n",
    "print(gcd(a,b))"
   ]
  },
  {
   "cell_type": "code",
   "execution_count": 9,
   "id": "1d9a40a2",
   "metadata": {},
   "outputs": [
    {
     "name": "stdout",
     "output_type": "stream",
     "text": [
      "2\n",
      "20\n",
      "[2, 3, 4, 5, 6, 7, 8, 9, 10, 11, 12, 13, 14, 15, 16, 17, 18, 19, 20]\n"
     ]
    }
   ],
   "source": [
    "#Q4—Create a function print_prime which will accept two parameters(one lower value and other upper value) and return the list of prime numbers between them. Note the o/p should be in list format only.\n",
    "def print_prime(a,b):\n",
    "    li=[]\n",
    "    for i in range(a,b+1):\n",
    "        for j in range (2,i//2+1):\n",
    "            if 1%j==0:\n",
    "                break\n",
    "        else:\n",
    "            li.append(i)\n",
    "    print(li) \n",
    "l=int(input())\n",
    "u=int(input())\n",
    "print_prime(l,u)\n",
    "                "
   ]
  },
  {
   "cell_type": "code",
   "execution_count": 8,
   "id": "e8a88bd3",
   "metadata": {},
   "outputs": [
    {
     "name": "stdout",
     "output_type": "stream",
     "text": [
      "lll\n",
      "ppp\n",
      "0\n"
     ]
    }
   ],
   "source": [
    "def check_commom(s,t):\n",
    "    c=0\n",
    "    for i in s:\n",
    "        if i in t:\n",
    "            c=c+1\n",
    "    return c\n",
    "s=input()\n",
    "t=input()\n",
    "print(check_commom(s,t))\n"
   ]
  },
  {
   "cell_type": "code",
   "execution_count": 4,
   "id": "76a2de72",
   "metadata": {},
   "outputs": [
    {
     "name": "stdout",
     "output_type": "stream",
     "text": [
      "1\n"
     ]
    }
   ],
   "source": [
    "n=int(input())\n",
    "f=0\n",
    "for i in range(2,n//2+1):\n",
    "    if n%i==0:\n",
    "        print(\"not prime\")\n",
    "        f=1\n",
    "        break\n",
    "    if f==0:\n",
    "        print(\"prime\")"
   ]
  },
  {
   "cell_type": "code",
   "execution_count": 12,
   "id": "d7588f4d",
   "metadata": {},
   "outputs": [
    {
     "name": "stdout",
     "output_type": "stream",
     "text": [
      "7\n",
      "it is prime\n",
      "it is prime\n"
     ]
    }
   ],
   "source": [
    "n=int(input())\n",
    "for i in range(2,n//2+1):\n",
    "    if n%i==0:\n",
    "        print(\"not a prime\")\n",
    "        break\n",
    "    else:\n",
    "        print(\"it is prime\")"
   ]
  },
  {
   "cell_type": "code",
   "execution_count": 13,
   "id": "7bee0913",
   "metadata": {},
   "outputs": [
    {
     "name": "stdout",
     "output_type": "stream",
     "text": [
      "1\n",
      "not prime\n"
     ]
    }
   ],
   "source": [
    "n=int(input())\n",
    "if n<=1:\n",
    "    print(\"not prime\")\n",
    "else:\n",
    "    for i in range(2,int(n**0.5)+1):\n",
    "        if n%i==0:\n",
    "            print(\"not prime\")\n",
    "            break\n",
    "    else:\n",
    "        print(\"prime\")\n",
    "    "
   ]
  },
  {
   "cell_type": "code",
   "execution_count": null,
   "id": "a4e13800",
   "metadata": {},
   "outputs": [],
   "source": []
  }
 ],
 "metadata": {
  "kernelspec": {
   "display_name": "Python 3 (ipykernel)",
   "language": "python",
   "name": "python3"
  },
  "language_info": {
   "codemirror_mode": {
    "name": "ipython",
    "version": 3
   },
   "file_extension": ".py",
   "mimetype": "text/x-python",
   "name": "python",
   "nbconvert_exporter": "python",
   "pygments_lexer": "ipython3",
   "version": "3.10.9"
  }
 },
 "nbformat": 4,
 "nbformat_minor": 5
}
