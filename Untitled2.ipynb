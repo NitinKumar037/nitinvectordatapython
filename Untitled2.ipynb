{
 "cells": [
  {
   "cell_type": "code",
   "execution_count": 8,
   "id": "03b5517f",
   "metadata": {},
   "outputs": [
    {
     "name": "stdout",
     "output_type": "stream",
     "text": [
      "200.96\n",
      "81\n"
     ]
    }
   ],
   "source": [
    "#create person class from that circle and square using abstract class\n",
    "class shape:\n",
    "    def area(s,x):\n",
    "        pass\n",
    "class circle (shape):\n",
    "    def area(s,r):\n",
    "        print(3.14*r*r)\n",
    "class sqr (shape):\n",
    "    def area (s,sd):\n",
    "        print(sd*sd)\n",
    "c1=circle()\n",
    "c1.area(8)\n",
    "s1=sqr()\n",
    "s1.area(9)"
   ]
  },
  {
   "cell_type": "code",
   "execution_count": 23,
   "id": "3b8b39ac",
   "metadata": {},
   "outputs": [
    {
     "name": "stdout",
     "output_type": "stream",
     "text": [
      "yogesh 21 mp 12 btech 95\n",
      "rajiv 22 od 11 it 2000\n"
     ]
    }
   ],
   "source": [
    "#create person class from that inherit student class and employee class\n",
    "class person:\n",
    "    def __init__(s,name,age,adders):\n",
    "        s.name=name\n",
    "        s.age=age\n",
    "        s.adders=adders\n",
    "    def disp(s):\n",
    "        print(s.name,s.age,s.adders,end=\" \")\n",
    "class student(person):\n",
    "    def __init__(s,name,age,adders,sid,dept,marks):\n",
    "        s.sid=sid\n",
    "        s.dept=dept\n",
    "        s.marks=marks\n",
    "        super(). __init__(name,age,adders)\n",
    "    def  disp(s):\n",
    "        super().disp()\n",
    "        print(s.sid,s.dept,s.marks)\n",
    "class emp(person):\n",
    "    def __init__(s,name,age,adders,eid,branch,sal):\n",
    "        super().__init__(name,age,adders)\n",
    "        s.eid=eid\n",
    "        s.sal=sal\n",
    "        s.branch=branch\n",
    "    def disp(s):\n",
    "        super ().disp()\n",
    "        print(s.eid,s.branch,s.sal)\n",
    "s1=student(\"yogesh\",21,\"mp\",12,\"btech\",95)\n",
    "e1=emp(\"rajiv\",22,\"od\",11,\"it\",2000)\n",
    "s1.disp()\n",
    "e1.disp()\n",
    "    \n"
   ]
  },
  {
   "cell_type": "code",
   "execution_count": 12,
   "id": "427507d4",
   "metadata": {},
   "outputs": [
    {
     "name": "stdout",
     "output_type": "stream",
     "text": [
      "myclass(15)\n"
     ]
    }
   ],
   "source": [
    "#operator overloading to add two class objects\n",
    "class myclass:\n",
    "    def __init__(self,value):\n",
    "        self.value=value\n",
    "    def __add__(self,other):\n",
    "        if isinstance(other,myclass):\n",
    "            return myclass(self.value+other.value)\n",
    "        else:\n",
    "            raise TyperError(\"unsupported oparand type.cannot add myclass oblect with{}.\".format(type(other)))\n",
    "    def __str__(self):\n",
    "        return \"myclass({})\".format(self.value)\n",
    "obj1=myclass(5)\n",
    "obj2=myclass(10)\n",
    "obj3=obj1 + obj2\n",
    "print(obj3)"
   ]
  },
  {
   "cell_type": "code",
   "execution_count": null,
   "id": "ac116c36",
   "metadata": {},
   "outputs": [],
   "source": [
    "class cus id:\n",
    "    def __init__(s,name,id,):\n",
    "        "
   ]
  }
 ],
 "metadata": {
  "kernelspec": {
   "display_name": "Python 3 (ipykernel)",
   "language": "python",
   "name": "python3"
  },
  "language_info": {
   "codemirror_mode": {
    "name": "ipython",
    "version": 3
   },
   "file_extension": ".py",
   "mimetype": "text/x-python",
   "name": "python",
   "nbconvert_exporter": "python",
   "pygments_lexer": "ipython3",
   "version": "3.10.9"
  }
 },
 "nbformat": 4,
 "nbformat_minor": 5
}
